{
  "nbformat": 4,
  "nbformat_minor": 0,
  "metadata": {
    "colab": {
      "provenance": []
    },
    "kernelspec": {
      "name": "python3",
      "display_name": "Python 3"
    },
    "language_info": {
      "name": "python"
    }
  },
  "cells": [
    {
      "cell_type": "code",
      "execution_count": null,
      "metadata": {
        "id": "IdYFpVrHALnG"
      },
      "outputs": [],
      "source": [
        "!pip install spotipy"
      ]
    },
    {
      "cell_type": "code",
      "source": [
        "import spotipy\n",
        "from spotipy.oauth2 import SpotifyClientCredentials"
      ],
      "metadata": {
        "id": "MGahywMQN4PI"
      },
      "execution_count": null,
      "outputs": []
    },
    {
      "cell_type": "code",
      "source": [
        "!pip install spotipy\n",
        "import spotipy\n",
        "from spotipy.oauth2 import SpotifyClientCredentials\n",
        "import pandas as pd"
      ],
      "metadata": {
        "id": "w-J_OBUfpao-"
      },
      "execution_count": null,
      "outputs": []
    },
    {
      "cell_type": "code",
      "source": [
        "#add your keys here\n",
        "client_credentials_manager = SpotifyClientCredentials(client_id=\"b3e53cb53cbf46d89426e5246c8f9c8e\", client_secret=\"3e49831e3ab54002b67dbf221dab6b47\")"
      ],
      "metadata": {
        "id": "h2lVmc9xsMx9"
      },
      "execution_count": null,
      "outputs": []
    },
    {
      "cell_type": "code",
      "source": [
        "sp = spotipy.Spotify(client_credentials_manager = client_credentials_manager)"
      ],
      "metadata": {
        "id": "2NsKkf44sPPG"
      },
      "execution_count": null,
      "outputs": []
    },
    {
      "cell_type": "code",
      "source": [
        "playlist_link = \"https://open.spotify.com/playlist/37i9dQZEVXbNG2KDcFcKOF?si=1333723a6eff4b7f\"\n",
        "playlist_URI = playlist_link.split(\"/\")[-1].split('?')[0]"
      ],
      "metadata": {
        "id": "UBcSfBDMsQ6t"
      },
      "execution_count": null,
      "outputs": []
    },
    {
      "cell_type": "code",
      "source": [
        "playlist_URI"
      ],
      "metadata": {
        "id": "eC_gaiEGtgub"
      },
      "execution_count": null,
      "outputs": []
    },
    {
      "cell_type": "code",
      "source": [
        "data = sp.playlist_tracks(playlist_URI)"
      ],
      "metadata": {
        "id": "bwAZEBS58TSA"
      },
      "execution_count": null,
      "outputs": []
    },
    {
      "cell_type": "code",
      "source": [
        "type(data.get('track'))"
      ],
      "metadata": {
        "id": "KHXqCMDrEbS0"
      },
      "execution_count": null,
      "outputs": []
    },
    {
      "cell_type": "code",
      "source": [
        "print(data['items'][0]['track'])"
      ],
      "metadata": {
        "id": "iPC1V80p_WfY"
      },
      "execution_count": null,
      "outputs": []
    },
    {
      "cell_type": "code",
      "source": [
        "print(data['items'][0]['track']['album']['id'])\n",
        "print(data['items'][0]['track']['album']['name'])\n",
        "print(data['items'][0]['track']['album']['release_date'])\n",
        "print(data['items'][0]['track']['album']['total_tracks'])\n",
        "print(data['items'][0]['track']['album']['external_urls']['spotify'])"
      ],
      "metadata": {
        "id": "Kw8fD-c92y3x"
      },
      "execution_count": null,
      "outputs": []
    },
    {
      "cell_type": "code",
      "source": [
        "print(data['items'][0]['track'])"
      ],
      "metadata": {
        "id": "kGpzr1uFH1R9"
      },
      "execution_count": null,
      "outputs": []
    },
    {
      "cell_type": "code",
      "source": [
        "album_list = []\n",
        "for row in data['items']:\n",
        "    album_id = row['track']['album']['id']\n",
        "    album_name = row['track']['album']['name']\n",
        "    album_release_date = row['track']['album']['release_date']\n",
        "    album_total_tracks = row['track']['album']['total_tracks']\n",
        "    album_url = row['track']['album']['external_urls']['spotify']\n",
        "    album_element = {'album_id':album_id,\n",
        "                     'name':album_name, \n",
        "                     'release_date':album_release_date,\n",
        "                     'total_tracks':album_total_tracks,\n",
        "                     'url':album_url}\n",
        "    album_list.append(album_element)\n",
        "print(album_list)"
      ],
      "metadata": {
        "id": "mePFdncWCi6j"
      },
      "execution_count": null,
      "outputs": []
    },
    {
      "cell_type": "code",
      "source": [
        "artist_list = []\n",
        "for row in data['items']:\n",
        "  for key,value in row.items():\n",
        "    if key=='track':\n",
        "      for artist in value['artists']:\n",
        "        artist_dict = {'artist_id':artist['id'],\n",
        "                       'artist_name':artist['name'],\n",
        "                       'artist_url':artist['href'],\n",
        "                       }\n",
        "        artist_list.append(artist_dict)\n",
        "print(artist_list)"
      ],
      "metadata": {
        "id": "r3hJmHndLpmT"
      },
      "execution_count": null,
      "outputs": []
    },
    {
      "cell_type": "code",
      "source": [
        "song_list = []\n",
        "for row in data['items']:\n",
        "    song_id = row['track']['id']\n",
        "    song_name = row['track']['name']\n",
        "    song_duration = row['track']['duration_ms']\n",
        "    song_url = row['track']['external_urls']['spotify']\n",
        "    song_popularity = row['track']['popularity']\n",
        "    song_added_at = row['added_at']\n",
        "    album_id = row['track']['album']['id']\n",
        "    artist_id = row['track']['album']['artists'][0]['id']\n",
        "    song_dict = {'song_id' : song_id,\n",
        "                 'song_name' : song_name,\n",
        "                 'song_duration' : song_duration,\n",
        "                 'song_url' : song_url,\n",
        "                 'song_popularity' : song_popularity,\n",
        "                 'song_added_at' : song_added_at,\n",
        "                 'album_id' : album_id,\n",
        "                 'artist_id' : artist_id}\n",
        "    song_list.append(song_dict)\n",
        "print(song_list)"
      ],
      "metadata": {
        "id": "k5C0H-dAhUok"
      },
      "execution_count": null,
      "outputs": []
    },
    {
      "cell_type": "code",
      "source": [
        "import pandas as pd\n",
        "album_df = pd.DataFrame.from_dict(album_list)\n",
        "artist_df = pd.DataFrame.from_dict(artist_list)\n",
        "song_df = pd.DataFrame.from_dict(song_list)\n"
      ],
      "metadata": {
        "id": "ZnESOnY4iNcM"
      },
      "execution_count": null,
      "outputs": []
    },
    {
      "cell_type": "code",
      "source": [
        "print(album_df.info())\n",
        "print(artist_df.info())\n",
        "print(song_df.info())"
      ],
      "metadata": {
        "colab": {
          "base_uri": "https://localhost:8080/"
        },
        "id": "gjduAsH-je8c",
        "outputId": "3cffa0ff-5f82-4253-95aa-d991c6b2e787"
      },
      "execution_count": null,
      "outputs": [
        {
          "output_type": "stream",
          "name": "stdout",
          "text": [
            "<class 'pandas.core.frame.DataFrame'>\n",
            "RangeIndex: 50 entries, 0 to 49\n",
            "Data columns (total 5 columns):\n",
            " #   Column        Non-Null Count  Dtype \n",
            "---  ------        --------------  ----- \n",
            " 0   album_id      50 non-null     object\n",
            " 1   name          50 non-null     object\n",
            " 2   release_date  50 non-null     object\n",
            " 3   total_tracks  50 non-null     int64 \n",
            " 4   url           50 non-null     object\n",
            "dtypes: int64(1), object(4)\n",
            "memory usage: 2.1+ KB\n",
            "None\n",
            "<class 'pandas.core.frame.DataFrame'>\n",
            "RangeIndex: 78 entries, 0 to 77\n",
            "Data columns (total 3 columns):\n",
            " #   Column       Non-Null Count  Dtype \n",
            "---  ------       --------------  ----- \n",
            " 0   artist_id    78 non-null     object\n",
            " 1   artist_name  78 non-null     object\n",
            " 2   artist_url   78 non-null     object\n",
            "dtypes: object(3)\n",
            "memory usage: 2.0+ KB\n",
            "None\n",
            "<class 'pandas.core.frame.DataFrame'>\n",
            "RangeIndex: 50 entries, 0 to 49\n",
            "Data columns (total 8 columns):\n",
            " #   Column           Non-Null Count  Dtype \n",
            "---  ------           --------------  ----- \n",
            " 0   song_id          50 non-null     object\n",
            " 1   song_name        50 non-null     object\n",
            " 2   song_duration    50 non-null     int64 \n",
            " 3   song_url         50 non-null     object\n",
            " 4   song_popularity  50 non-null     int64 \n",
            " 5   song_added_at    50 non-null     object\n",
            " 6   album_id         50 non-null     object\n",
            " 7   artist_id        50 non-null     object\n",
            "dtypes: int64(2), object(6)\n",
            "memory usage: 3.2+ KB\n",
            "None\n"
          ]
        }
      ]
    },
    {
      "cell_type": "code",
      "source": [
        "artist_df"
      ],
      "metadata": {
        "id": "wlIe7oDXjgwc"
      },
      "execution_count": null,
      "outputs": []
    },
    {
      "cell_type": "code",
      "source": [
        "song_df"
      ],
      "metadata": {
        "id": "ZDCmYptfcplm"
      },
      "execution_count": null,
      "outputs": []
    },
    {
      "cell_type": "code",
      "source": [
        "album_df['release_date'] = pd.to_datetime(album_df['release_date'])"
      ],
      "metadata": {
        "id": "rOnAoqA63X6s"
      },
      "execution_count": null,
      "outputs": []
    },
    {
      "cell_type": "code",
      "source": [
        "album_df.info()"
      ],
      "metadata": {
        "colab": {
          "base_uri": "https://localhost:8080/"
        },
        "id": "EN-ttr083jFE",
        "outputId": "82eecb89-7b33-4f70-c4dd-99aad7416154"
      },
      "execution_count": null,
      "outputs": [
        {
          "output_type": "stream",
          "name": "stdout",
          "text": [
            "<class 'pandas.core.frame.DataFrame'>\n",
            "RangeIndex: 50 entries, 0 to 49\n",
            "Data columns (total 5 columns):\n",
            " #   Column        Non-Null Count  Dtype         \n",
            "---  ------        --------------  -----         \n",
            " 0   album_id      50 non-null     object        \n",
            " 1   name          50 non-null     object        \n",
            " 2   release_date  50 non-null     datetime64[ns]\n",
            " 3   total_tracks  50 non-null     int64         \n",
            " 4   url           50 non-null     object        \n",
            "dtypes: datetime64[ns](1), int64(1), object(3)\n",
            "memory usage: 2.1+ KB\n"
          ]
        }
      ]
    },
    {
      "cell_type": "code",
      "source": [
        "song_df['song_added_at'] = pd.to_datetime(song_df['song_added_at'])"
      ],
      "metadata": {
        "id": "XKFiU0ig3qTk"
      },
      "execution_count": null,
      "outputs": []
    },
    {
      "cell_type": "code",
      "source": [
        "song_df.info()"
      ],
      "metadata": {
        "id": "Z5eeD7Hs3wdb",
        "outputId": "9dfb3442-a7e9-4d55-9853-c99c8afa7b1e",
        "colab": {
          "base_uri": "https://localhost:8080/"
        }
      },
      "execution_count": null,
      "outputs": [
        {
          "output_type": "stream",
          "name": "stdout",
          "text": [
            "<class 'pandas.core.frame.DataFrame'>\n",
            "RangeIndex: 50 entries, 0 to 49\n",
            "Data columns (total 8 columns):\n",
            " #   Column           Non-Null Count  Dtype              \n",
            "---  ------           --------------  -----              \n",
            " 0   song_id          50 non-null     object             \n",
            " 1   song_name        50 non-null     object             \n",
            " 2   song_duration    50 non-null     int64              \n",
            " 3   song_url         50 non-null     object             \n",
            " 4   song_popularity  50 non-null     int64              \n",
            " 5   song_added_at    50 non-null     datetime64[ns, UTC]\n",
            " 6   album_id         50 non-null     object             \n",
            " 7   artist_id        50 non-null     object             \n",
            "dtypes: datetime64[ns, UTC](1), int64(2), object(5)\n",
            "memory usage: 3.2+ KB\n"
          ]
        }
      ]
    }
  ]
}